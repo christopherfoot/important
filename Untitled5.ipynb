{
  "nbformat": 4,
  "nbformat_minor": 0,
  "metadata": {
    "colab": {
      "provenance": [],
      "history_visible": true,
      "authorship_tag": "ABX9TyNqsqJAXMaICcers18GHOFD",
      "include_colab_link": true
    },
    "kernelspec": {
      "name": "python3",
      "display_name": "Python 3"
    },
    "language_info": {
      "name": "python"
    }
  },
  "cells": [
    {
      "cell_type": "markdown",
      "metadata": {
        "id": "view-in-github",
        "colab_type": "text"
      },
      "source": [
        "<a href=\"https://colab.research.google.com/github/christopherfoot/important/blob/main/Untitled5.ipynb\" target=\"_parent\"><img src=\"https://colab.research.google.com/assets/colab-badge.svg\" alt=\"Open In Colab\"/></a>"
      ]
    },
    {
      "cell_type": "code",
      "execution_count": null,
      "metadata": {
        "id": "kY-CQyPbhBwH"
      },
      "outputs": [],
      "source": [
        "import numpy as np\n",
        "from scipy.integrate import odeint\n",
        "\n",
        "# Define the Optical Bloch Equations\n",
        "def optical_bloch_equations(rho, t, H):\n",
        "    # Extract matrix elements of the density matrix\n",
        "    rho11, rho12, rho21, rho22 = rho\n",
        "\n",
        "    # Calculate derivatives\n",
        "    drho11_dt = -1j / 2 * (H[0, 0]*rho12 - H[1, 1]*rho21)\n",
        "    drho12_dt = -1j / 2 * (H[0, 0]*rho11 - H[1, 1]*rho12) - gamma * rho12\n",
        "    drho21_dt = -1j / 2 * (H[1, 1]*rho22 - H[0, 0]*rho21) - gamma * rho21\n",
        "    drho22_dt = 1j / 2 * (H[0, 0]*rho21 - H[1, 1]*rho22)\n",
        "\n",
        "    return [drho11_dt, drho12_dt, drho21_dt, drho22_dt]\n",
        "\n",
        "# Define Hamiltonian and initial conditions\n",
        "H = np.array([[0, 1], [1, 0]])  # Example Hamiltonian for a two-level system\n",
        "gamma = 0.1  # Example dissipation rate\n",
        "\n",
        "initial_rho = [1, 0, 0, 0]  # Initial state |1⟩⟨1|\n",
        "\n",
        "# Time vector\n",
        "t = np.linspace(0, 10, 1000)\n",
        "\n",
        "# Solve the Optical Bloch Equations\n",
        "solution = odeint(optical_bloch_equations, initial_rho, t, args=(H,))\n",
        "\n",
        "# Extract results\n",
        "rho11, rho12, rho21, rho22 = solution.T\n",
        "\n",
        "# Plot results or perform further analysis\n"
      ]
    },
    {
      "cell_type": "code",
      "source": [
        "import numpy as np\n",
        "import matplotlib.pyplot as plt\n",
        "from scipy.integrate import odeint\n",
        "\n",
        "# Define the OBEs as a system of first-order differential equations\n",
        "def optical_bloch_equations(rho, t, Omega_31, Omega_32, Delta, Gamma_21, Gamma_31, Gamma_32):\n",
        "    rho_11, rho_22, rho_21 = rho\n",
        "\n",
        "    drho_11 = -((Gamma_21 + Gamma_31) * rho_11) + 1j * (Omega_32 * rho_21 - Omega_31 * rho_21)\n",
        "    drho_22 = -((Gamma_32 + Gamma_31) * rho_22) - 1j * (Omega_32 * rho_21 - Omega_31 * rho_21)\n",
        "    drho_21 = -((Gamma_21 + Gamma_22 + 1j * Delta) * rho_21) - 1j * Omega_31 * rho_11 + 1j * Omega_32 * rho_22\n",
        "\n",
        "    return [drho_11, drho_22, drho_21]\n",
        "\n",
        "# Set parameters\n",
        "Omega_31 = 1.0\n",
        "Omega_32 = 0.5\n",
        "Delta = 0.0\n",
        "Gamma_21 = 0.1\n",
        "Gamma_31 = 0.2\n",
        "Gamma_32 = 0.3\n",
        "\n",
        "# Initial conditions\n",
        "rho_11_0 = 1.0\n",
        "rho_22_0 = 0.0\n",
        "rho_21_0 = 0.0\n",
        "\n",
        "# Time array\n",
        "t = np.linspace(0, 10, 1000)\n",
        "\n",
        "# Solve the OBEs\n",
        "rho_t = odeint(optical_bloch_equations, [rho_11_0, rho_22_0, rho_21_0], t, args=(Omega_31, Omega_32, Delta, Gamma_21, Gamma_31, Gamma_32))\n",
        "\n",
        "# Plot the results\n",
        "plt.plot(t, np.real(rho_t[:, 0]), label='rho_11 (real)')\n",
        "plt.plot(t, np.real(rho_t[:, 1]), label='rho_22 (real)')\n",
        "plt.plot(t, np.real(rho_t[:, 2]), label='rho_21 (real)')\n",
        "plt.xlabel('Time')\n",
        "plt.ylabel('Population')\n",
        "plt.legend()\n",
        "plt.show()\n"
      ],
      "metadata": {
        "id": "2kqzzm8Fi1df"
      },
      "execution_count": null,
      "outputs": []
    },
    {
      "cell_type": "code",
      "source": [
        "import numpy as np\n",
        "from scipy.integrate import odeint\n",
        "\n",
        "# Define Pauli matrices\n",
        "sigma_x = np.array([[0, 1], [1, 0]])\n",
        "sigma_y = np.array([[0, -1j], [1j, 0]])\n",
        "sigma_z = np.array([[1, 0], [0, -1]])\n",
        "\n",
        "# Define the Hamiltonian for a two-level system\n",
        "def hamiltonian(t, args):\n",
        "    omega_0, omega, delta = args\n",
        "    H0 = 0.5 * omega_0 * sigma_z\n",
        "    H1 = 0.5 * omega * sigma_x\n",
        "    H = H0 + H1 * np.cos(delta * t)\n",
        "    return H\n",
        "\n",
        "# Define the Optical Bloch Equations\n",
        "def optical_bloch_equations(rho, t, args):\n",
        "    omega_0, omega, delta = args\n",
        "    H = hamiltonian(t, args)\n",
        "    drhodt = -1j * (np.dot(H, rho) - np.dot(rho, H))\n",
        "    return drhodt\n",
        "\n",
        "# Set up the parameters\n",
        "omega_0 = 1.0  # Energy separation of the two levels\n",
        "omega = 0.1   # Frequency of the driving field\n",
        "delta = 0.5    # Detuning parameter\n",
        "\n",
        "# Set the initial density matrix to be a pure state |0⟩⟨0|\n",
        "rho0 = np.array([[1, 0], [0, 0]])\n",
        "\n",
        "# Set the time points for integration\n",
        "t_points = np.linspace(0, 10, 1000)\n",
        "\n",
        "# Pack parameters into args tuple\n",
        "args = (omega_0, omega, delta)\n",
        "\n",
        "# Solve the Optical Bloch Equations using odeint\n",
        "result = odeint(optical_bloch_equations, rho0.flatten(), t_points, args=(args,))\n",
        "\n",
        "# Reshape the result to get the density matrix at each time point\n",
        "result = result.reshape((-1, 2, 2))\n",
        "\n",
        "# Extract populations and coherences\n",
        "populations = np.diagonal(result, axis1=1, axis2=2)\n",
        "coherences = result[:, 0, 1]\n",
        "\n",
        "# Plot the results (populations and coherences)\n",
        "import matplotlib.pyplot as plt\n",
        "\n",
        "plt.figure(figsize=(10, 6))\n",
        "plt.plot(t_points, populations[:, 0], label='Population |0⟩')\n",
        "plt.plot(t_points, populations[:, 1], label='Population |1⟩')\n",
        "plt.plot(t_points, np.abs(coherences), label='Coherence')\n",
        "plt.xlabel('Time')\n",
        "plt.ylabel('Population/Coherence')\n",
        "plt.legend()\n",
        "plt.show()"
      ],
      "metadata": {
        "colab": {
          "base_uri": "https://localhost:8080/",
          "height": 303
        },
        "id": "QHMN1vjTJune",
        "outputId": "56aa1b12-728d-4002-dd3d-9f128ab5f1be"
      },
      "execution_count": 8,
      "outputs": [
        {
          "output_type": "error",
          "ename": "ValueError",
          "evalue": "shapes (2,2) and (4,) not aligned: 2 (dim 1) != 4 (dim 0)",
          "traceback": [
            "\u001b[0;31m---------------------------------------------------------------------------\u001b[0m",
            "\u001b[0;31mValueError\u001b[0m                                Traceback (most recent call last)",
            "\u001b[0;32m<ipython-input-8-124e50512b77>\u001b[0m in \u001b[0;36m<cell line: 39>\u001b[0;34m()\u001b[0m\n\u001b[1;32m     37\u001b[0m \u001b[0;34m\u001b[0m\u001b[0m\n\u001b[1;32m     38\u001b[0m \u001b[0;31m# Solve the Optical Bloch Equations using odeint\u001b[0m\u001b[0;34m\u001b[0m\u001b[0;34m\u001b[0m\u001b[0m\n\u001b[0;32m---> 39\u001b[0;31m \u001b[0mresult\u001b[0m \u001b[0;34m=\u001b[0m \u001b[0modeint\u001b[0m\u001b[0;34m(\u001b[0m\u001b[0moptical_bloch_equations\u001b[0m\u001b[0;34m,\u001b[0m \u001b[0mrho0\u001b[0m\u001b[0;34m.\u001b[0m\u001b[0mflatten\u001b[0m\u001b[0;34m(\u001b[0m\u001b[0;34m)\u001b[0m\u001b[0;34m,\u001b[0m \u001b[0mt_points\u001b[0m\u001b[0;34m,\u001b[0m \u001b[0margs\u001b[0m\u001b[0;34m=\u001b[0m\u001b[0;34m(\u001b[0m\u001b[0margs\u001b[0m\u001b[0;34m,\u001b[0m\u001b[0;34m)\u001b[0m\u001b[0;34m)\u001b[0m\u001b[0;34m\u001b[0m\u001b[0;34m\u001b[0m\u001b[0m\n\u001b[0m\u001b[1;32m     40\u001b[0m \u001b[0;34m\u001b[0m\u001b[0m\n\u001b[1;32m     41\u001b[0m \u001b[0;31m# Reshape the result to get the density matrix at each time point\u001b[0m\u001b[0;34m\u001b[0m\u001b[0;34m\u001b[0m\u001b[0m\n",
            "\u001b[0;32m/usr/local/lib/python3.10/dist-packages/scipy/integrate/_odepack_py.py\u001b[0m in \u001b[0;36modeint\u001b[0;34m(func, y0, t, args, Dfun, col_deriv, full_output, ml, mu, rtol, atol, tcrit, h0, hmax, hmin, ixpr, mxstep, mxhnil, mxordn, mxords, printmessg, tfirst)\u001b[0m\n\u001b[1;32m    240\u001b[0m     \u001b[0mt\u001b[0m \u001b[0;34m=\u001b[0m \u001b[0mcopy\u001b[0m\u001b[0;34m(\u001b[0m\u001b[0mt\u001b[0m\u001b[0;34m)\u001b[0m\u001b[0;34m\u001b[0m\u001b[0;34m\u001b[0m\u001b[0m\n\u001b[1;32m    241\u001b[0m     \u001b[0my0\u001b[0m \u001b[0;34m=\u001b[0m \u001b[0mcopy\u001b[0m\u001b[0;34m(\u001b[0m\u001b[0my0\u001b[0m\u001b[0;34m)\u001b[0m\u001b[0;34m\u001b[0m\u001b[0;34m\u001b[0m\u001b[0m\n\u001b[0;32m--> 242\u001b[0;31m     output = _odepack.odeint(func, y0, t, args, Dfun, col_deriv, ml, mu,\n\u001b[0m\u001b[1;32m    243\u001b[0m                              \u001b[0mfull_output\u001b[0m\u001b[0;34m,\u001b[0m \u001b[0mrtol\u001b[0m\u001b[0;34m,\u001b[0m \u001b[0matol\u001b[0m\u001b[0;34m,\u001b[0m \u001b[0mtcrit\u001b[0m\u001b[0;34m,\u001b[0m \u001b[0mh0\u001b[0m\u001b[0;34m,\u001b[0m \u001b[0mhmax\u001b[0m\u001b[0;34m,\u001b[0m \u001b[0mhmin\u001b[0m\u001b[0;34m,\u001b[0m\u001b[0;34m\u001b[0m\u001b[0;34m\u001b[0m\u001b[0m\n\u001b[1;32m    244\u001b[0m                              \u001b[0mixpr\u001b[0m\u001b[0;34m,\u001b[0m \u001b[0mmxstep\u001b[0m\u001b[0;34m,\u001b[0m \u001b[0mmxhnil\u001b[0m\u001b[0;34m,\u001b[0m \u001b[0mmxordn\u001b[0m\u001b[0;34m,\u001b[0m \u001b[0mmxords\u001b[0m\u001b[0;34m,\u001b[0m\u001b[0;34m\u001b[0m\u001b[0;34m\u001b[0m\u001b[0m\n",
            "\u001b[0;32m<ipython-input-8-124e50512b77>\u001b[0m in \u001b[0;36moptical_bloch_equations\u001b[0;34m(rho, t, args)\u001b[0m\n\u001b[1;32m     19\u001b[0m     \u001b[0momega_0\u001b[0m\u001b[0;34m,\u001b[0m \u001b[0momega\u001b[0m\u001b[0;34m,\u001b[0m \u001b[0mdelta\u001b[0m \u001b[0;34m=\u001b[0m \u001b[0margs\u001b[0m\u001b[0;34m\u001b[0m\u001b[0;34m\u001b[0m\u001b[0m\n\u001b[1;32m     20\u001b[0m     \u001b[0mH\u001b[0m \u001b[0;34m=\u001b[0m \u001b[0mhamiltonian\u001b[0m\u001b[0;34m(\u001b[0m\u001b[0mt\u001b[0m\u001b[0;34m,\u001b[0m \u001b[0margs\u001b[0m\u001b[0;34m)\u001b[0m\u001b[0;34m\u001b[0m\u001b[0;34m\u001b[0m\u001b[0m\n\u001b[0;32m---> 21\u001b[0;31m     \u001b[0mdrhodt\u001b[0m \u001b[0;34m=\u001b[0m \u001b[0;34m-\u001b[0m\u001b[0;36m1j\u001b[0m \u001b[0;34m*\u001b[0m \u001b[0;34m(\u001b[0m\u001b[0mnp\u001b[0m\u001b[0;34m.\u001b[0m\u001b[0mdot\u001b[0m\u001b[0;34m(\u001b[0m\u001b[0mH\u001b[0m\u001b[0;34m,\u001b[0m \u001b[0mrho\u001b[0m\u001b[0;34m)\u001b[0m \u001b[0;34m-\u001b[0m \u001b[0mnp\u001b[0m\u001b[0;34m.\u001b[0m\u001b[0mdot\u001b[0m\u001b[0;34m(\u001b[0m\u001b[0mrho\u001b[0m\u001b[0;34m,\u001b[0m \u001b[0mH\u001b[0m\u001b[0;34m)\u001b[0m\u001b[0;34m)\u001b[0m\u001b[0;34m\u001b[0m\u001b[0;34m\u001b[0m\u001b[0m\n\u001b[0m\u001b[1;32m     22\u001b[0m     \u001b[0;32mreturn\u001b[0m \u001b[0mdrhodt\u001b[0m\u001b[0;34m\u001b[0m\u001b[0;34m\u001b[0m\u001b[0m\n\u001b[1;32m     23\u001b[0m \u001b[0;34m\u001b[0m\u001b[0m\n",
            "\u001b[0;32m/usr/local/lib/python3.10/dist-packages/numpy/core/overrides.py\u001b[0m in \u001b[0;36mdot\u001b[0;34m(*args, **kwargs)\u001b[0m\n",
            "\u001b[0;31mValueError\u001b[0m: shapes (2,2) and (4,) not aligned: 2 (dim 1) != 4 (dim 0)"
          ]
        }
      ]
    }
  ]
}